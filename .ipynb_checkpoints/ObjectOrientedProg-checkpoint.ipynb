{
 "cells": [
  {
   "cell_type": "markdown",
   "metadata": {},
   "source": [
    "#Object Oriented Programming"
   ]
  },
  {
   "cell_type": "markdown",
   "metadata": {},
   "source": [
    "##Overview"
   ]
  },
  {
   "cell_type": "markdown",
   "metadata": {},
   "source": [
    "##About OOP"
   ]
  },
  {
   "cell_type": "markdown",
   "metadata": {},
   "source": [
    "object oriented vs procedural\n",
    "\n",
    "in the OOP paradigm, data and functions are bundled together into “objects\"\n",
    "\n",
    "データと関数をひとまとめに。"
   ]
  },
  {
   "cell_type": "markdown",
   "metadata": {},
   "source": [
    "class -> object = instance"
   ]
  },
  {
   "cell_type": "markdown",
   "metadata": {},
   "source": [
    "Attribute: ドットのあとにつくやつの総称。dataとかfunctionとか。"
   ]
  },
  {
   "cell_type": "markdown",
   "metadata": {},
   "source": [
    "##Why is OOP useful?"
   ]
  },
  {
   "cell_type": "markdown",
   "metadata": {},
   "source": [
    "abstraction\n",
    "\n",
    "data encapsulation: name spaceでのconflictを避ける。"
   ]
  },
  {
   "cell_type": "markdown",
   "metadata": {},
   "source": [
    "##Defining Your Own Class"
   ]
  },
  {
   "cell_type": "code",
   "execution_count": 15,
   "metadata": {
    "collapsed": true
   },
   "outputs": [],
   "source": [
    "class Consumer:\n",
    "    def __init__(self, w):\n",
    "        self.wealth = w\n",
    "    \n",
    "    def earn(self, y):\n",
    "        self.wealth += y\n",
    "    \n",
    "    def spend(self, x):\n",
    "        new_wealth = self.wealth - x\n",
    "        if new_wealth < 0:\n",
    "            print(\"Insufficient funds\")\n",
    "        else:\n",
    "            self.wealth = new_wealth\n"
   ]
  },
  {
   "cell_type": "code",
   "execution_count": 4,
   "metadata": {
    "collapsed": false
   },
   "outputs": [],
   "source": [
    "c1 = Consumer(10)"
   ]
  },
  {
   "cell_type": "code",
   "execution_count": 6,
   "metadata": {
    "collapsed": false
   },
   "outputs": [
    {
     "data": {
      "text/plain": [
       "10"
      ]
     },
     "execution_count": 6,
     "metadata": {},
     "output_type": "execute_result"
    }
   ],
   "source": [
    "c1.wealth"
   ]
  },
  {
   "cell_type": "code",
   "execution_count": 7,
   "metadata": {
    "collapsed": true
   },
   "outputs": [],
   "source": [
    "c1.spend(2)"
   ]
  },
  {
   "cell_type": "code",
   "execution_count": 8,
   "metadata": {
    "collapsed": false
   },
   "outputs": [
    {
     "data": {
      "text/plain": [
       "8"
      ]
     },
     "execution_count": 8,
     "metadata": {},
     "output_type": "execute_result"
    }
   ],
   "source": [
    "c1.wealth"
   ]
  },
  {
   "cell_type": "code",
   "execution_count": 9,
   "metadata": {
    "collapsed": false
   },
   "outputs": [
    {
     "data": {
      "text/plain": [
       "{'wealth': 8}"
      ]
     },
     "execution_count": 9,
     "metadata": {},
     "output_type": "execute_result"
    }
   ],
   "source": [
    "c1.__dict__"
   ]
  },
  {
   "cell_type": "markdown",
   "metadata": {},
   "source": [
    "###Self"
   ]
  },
  {
   "cell_type": "code",
   "execution_count": 10,
   "metadata": {
    "collapsed": true
   },
   "outputs": [],
   "source": [
    "run Consumer.py"
   ]
  },
  {
   "cell_type": "code",
   "execution_count": 11,
   "metadata": {
    "collapsed": false
   },
   "outputs": [
    {
     "data": {
      "text/plain": [
       "{'__doc__': None,\n",
       " '__init__': <function __main__.__init__>,\n",
       " '__module__': '__main__',\n",
       " 'earn': <function __main__.earn>,\n",
       " 'spend': <function __main__.spend>}"
      ]
     },
     "execution_count": 11,
     "metadata": {},
     "output_type": "execute_result"
    }
   ],
   "source": [
    "Consumer.__dict__"
   ]
  },
  {
   "cell_type": "code",
   "execution_count": 18,
   "metadata": {
    "collapsed": false
   },
   "outputs": [],
   "source": [
    "c1 = Consumer(10)"
   ]
  },
  {
   "cell_type": "code",
   "execution_count": 19,
   "metadata": {
    "collapsed": true
   },
   "outputs": [],
   "source": [
    "c1.earn(10)"
   ]
  },
  {
   "cell_type": "code",
   "execution_count": 20,
   "metadata": {
    "collapsed": false
   },
   "outputs": [
    {
     "data": {
      "text/plain": [
       "20"
      ]
     },
     "execution_count": 20,
     "metadata": {},
     "output_type": "execute_result"
    }
   ],
   "source": [
    "c1.wealth"
   ]
  },
  {
   "cell_type": "code",
   "execution_count": 21,
   "metadata": {
    "collapsed": false
   },
   "outputs": [],
   "source": [
    "Consumer.earn(c1, 10)"
   ]
  },
  {
   "cell_type": "code",
   "execution_count": 22,
   "metadata": {
    "collapsed": false
   },
   "outputs": [
    {
     "data": {
      "text/plain": [
       "30"
      ]
     },
     "execution_count": 22,
     "metadata": {},
     "output_type": "execute_result"
    }
   ],
   "source": [
    "c1.wealth"
   ]
  },
  {
   "cell_type": "markdown",
   "metadata": {},
   "source": [
    "The end result is that self is bound to the instance c1 inside the function call\n",
    "\n",
    "That’s why the statement self.wealth += y inside earn ends up modifying c1.wealth"
   ]
  },
  {
   "cell_type": "markdown",
   "metadata": {},
   "source": [
    "##Example: The Solow Growth Model"
   ]
  },
  {
   "cell_type": "code",
   "execution_count": 2,
   "metadata": {
    "collapsed": true
   },
   "outputs": [],
   "source": [
    "from __future__ import division"
   ]
  },
  {
   "cell_type": "code",
   "execution_count": 3,
   "metadata": {
    "collapsed": true
   },
   "outputs": [],
   "source": [
    "import numpy as np"
   ]
  },
  {
   "cell_type": "code",
   "execution_count": 4,
   "metadata": {
    "collapsed": false
   },
   "outputs": [],
   "source": [
    "class Solow:\n",
    "    def __init__(self, n, s, d, alpha, z, k):\n",
    "        self.n, self.s, self.d, self.alpha, self.z = n, s, d, alpha, z\n",
    "        self.k = k\n",
    "    \n",
    "    def h(self, x):\n",
    "        temp = self.s * self.z * self.k ** self.alpha + self.k * (1 - self.d)\n",
    "        return temp / (1 + self.n)\n",
    "    \n",
    "    def update(self):\n",
    "        self.k = self.h(self.k)\n",
    "    \n",
    "    def steady_state(self):\n",
    "        return ( (self.s * self.z) / (self.n + self.d) )**(1 / (1 - self.alpha))\n",
    "    \n",
    "    def generate_sequence(self, t):\n",
    "        path = []\n",
    "        for i in range(t):\n",
    "            path.append(self.k)\n",
    "            self.update()\n",
    "        return path"
   ]
  },
  {
   "cell_type": "code",
   "execution_count": null,
   "metadata": {
    "collapsed": false
   },
   "outputs": [],
   "source": [
    "import matplotlib.pyplot as plt\n",
    "baseline_params = 0.05, 0.25, 0.1, 0.3, 2.0, 1.0\n",
    "s1 = Solow(*baseline_params)\n",
    "s2 = Solow(*baseline_params)\n",
    "s2.k = 8.0\n",
    "T = 60\n",
    "fig, ax = plt.subplots()\n",
    "ax.plot([s1.steady_state()]*T, 'k-', label='steady state')\n",
    "\n",
    "for s in s1,s2:\n",
    "    lb = 'capital series from initial state {}'.format(s.k)\n",
    "    ax.plot(s.generate_sequence(T), '-o', lw=2, alpha=0.6, label=lb)\n",
    "\n",
    "ax.legend(loc='lower right')\n",
    "plt.show()    "
   ]
  },
  {
   "cell_type": "markdown",
   "metadata": {
    "collapsed": true
   },
   "source": [
    "##Special Methods"
   ]
  },
  {
   "cell_type": "markdown",
   "metadata": {},
   "source": [
    "##Exercises"
   ]
  },
  {
   "cell_type": "markdown",
   "metadata": {},
   "source": [
    "###Exercise 1"
   ]
  },
  {
   "cell_type": "code",
   "execution_count": 1,
   "metadata": {
    "collapsed": true
   },
   "outputs": [],
   "source": [
    "from random import uniform"
   ]
  },
  {
   "cell_type": "code",
   "execution_count": 28,
   "metadata": {
    "collapsed": false
   },
   "outputs": [],
   "source": [
    "class ECDF(object):\n",
    "    def __init__(self, samples):\n",
    "        self.observations = samples\n",
    "        self.size = len(samples)\n",
    "    \n",
    "    def __call__(self, x):\n",
    "        value = 0\n",
    "        for sample in self.observations:\n",
    "            if sample <= x:\n",
    "                value += 1.0 / self.size\n",
    "        return value\n",
    "    "
   ]
  },
  {
   "cell_type": "code",
   "execution_count": 3,
   "metadata": {
    "collapsed": true
   },
   "outputs": [],
   "source": [
    "samples = [uniform(0, 1) for i in range(10)]"
   ]
  },
  {
   "cell_type": "code",
   "execution_count": 29,
   "metadata": {
    "collapsed": false
   },
   "outputs": [],
   "source": [
    "F = ECDF(samples)"
   ]
  },
  {
   "cell_type": "code",
   "execution_count": 30,
   "metadata": {
    "collapsed": false
   },
   "outputs": [
    {
     "data": {
      "text/plain": [
       "0.5"
      ]
     },
     "execution_count": 30,
     "metadata": {},
     "output_type": "execute_result"
    }
   ],
   "source": [
    "F(0.5)"
   ]
  },
  {
   "cell_type": "code",
   "execution_count": 31,
   "metadata": {
    "collapsed": false
   },
   "outputs": [
    {
     "data": {
      "text/plain": [
       "0.30000000000000004"
      ]
     },
     "execution_count": 31,
     "metadata": {},
     "output_type": "execute_result"
    }
   ],
   "source": [
    "F(0.4)"
   ]
  },
  {
   "cell_type": "code",
   "execution_count": 32,
   "metadata": {
    "collapsed": true
   },
   "outputs": [],
   "source": [
    "F.observations = [uniform(0,1) for i in range(1000)]"
   ]
  },
  {
   "cell_type": "code",
   "execution_count": 33,
   "metadata": {
    "collapsed": false
   },
   "outputs": [
    {
     "data": {
      "text/plain": [
       "52.20000000000047"
      ]
     },
     "execution_count": 33,
     "metadata": {},
     "output_type": "execute_result"
    }
   ],
   "source": [
    "F(0.5)"
   ]
  },
  {
   "cell_type": "markdown",
   "metadata": {},
   "source": [
    "##Exercise 2"
   ]
  },
  {
   "cell_type": "code",
   "execution_count": 58,
   "metadata": {
    "collapsed": false
   },
   "outputs": [],
   "source": [
    "class Polynomial(object):\n",
    "    def __init__(self, coeffs):\n",
    "        self.coeffs = coeffs\n",
    "        self.degree = len(self.coeffs) - 1\n",
    "    \n",
    "    def evaluate(self, x): #__call__ でもよかった。\n",
    "        i = 0 #indexとリスト内の要素をどちらも使いたいときは、enumarate\n",
    "        value = 0\n",
    "        for coeff in self.coeffs: #for i, coeff in enumarate(self.coeffs)とか\n",
    "            value += coeff * (x ** i)\n",
    "            i += 1\n",
    "        return value\n",
    "    \n",
    "    def diff(self):\n",
    "        for i in range(self.degree):\n",
    "            if i != self.degree:\n",
    "                self.coeffs[i] = (i + 1) * self.coeffs[i+1]\n",
    "        self.coeffs.pop(self.degree) #del coeffs[self.degree]とかの方がよいか"
   ]
  },
  {
   "cell_type": "code",
   "execution_count": 54,
   "metadata": {
    "collapsed": false
   },
   "outputs": [],
   "source": [
    "P = Polynomial([1,1,1])"
   ]
  },
  {
   "cell_type": "code",
   "execution_count": 43,
   "metadata": {
    "collapsed": false
   },
   "outputs": [
    {
     "data": {
      "text/plain": [
       "3"
      ]
     },
     "execution_count": 43,
     "metadata": {},
     "output_type": "execute_result"
    }
   ],
   "source": [
    "P.evaluate(1)"
   ]
  },
  {
   "cell_type": "code",
   "execution_count": 55,
   "metadata": {
    "collapsed": false
   },
   "outputs": [],
   "source": [
    "P.diff()"
   ]
  },
  {
   "cell_type": "code",
   "execution_count": 57,
   "metadata": {
    "collapsed": false
   },
   "outputs": [
    {
     "data": {
      "text/plain": [
       "[1, 2]"
      ]
     },
     "execution_count": 57,
     "metadata": {},
     "output_type": "execute_result"
    }
   ],
   "source": [
    "P.coeffs"
   ]
  },
  {
   "cell_type": "code",
   "execution_count": null,
   "metadata": {
    "collapsed": true
   },
   "outputs": [],
   "source": []
  }
 ],
 "metadata": {
  "kernelspec": {
   "display_name": "Python 2",
   "language": "python",
   "name": "python2"
  },
  "language_info": {
   "codemirror_mode": {
    "name": "ipython",
    "version": 2
   },
   "file_extension": ".py",
   "mimetype": "text/x-python",
   "name": "python",
   "nbconvert_exporter": "python",
   "pygments_lexer": "ipython2",
   "version": "2.7.9"
  }
 },
 "nbformat": 4,
 "nbformat_minor": 0
}
