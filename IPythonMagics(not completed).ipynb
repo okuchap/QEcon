{
 "cells": [
  {
   "cell_type": "markdown",
   "metadata": {},
   "source": [
    "http://nbviewer.ipython.org/github/ipython/ipython/blob/1.x/examples/notebooks/Cell%20Magics.ipynb"
   ]
  },
  {
   "cell_type": "code",
   "execution_count": 2,
   "metadata": {
    "collapsed": false,
    "scrolled": true
   },
   "outputs": [
    {
     "data": {
      "application/json": {
       "cell": {
        "!": "OSMagics",
        "HTML": "Other",
        "SVG": "Other",
        "bash": "Other",
        "capture": "ExecutionMagics",
        "cmd": "Other",
        "debug": "ExecutionMagics",
        "file": "Other",
        "html": "DisplayMagics",
        "javascript": "DisplayMagics",
        "latex": "DisplayMagics",
        "perl": "Other",
        "prun": "ExecutionMagics",
        "pypy": "Other",
        "python": "Other",
        "python2": "Other",
        "python3": "Other",
        "ruby": "Other",
        "script": "ScriptMagics",
        "sh": "Other",
        "svg": "DisplayMagics",
        "sx": "OSMagics",
        "system": "OSMagics",
        "time": "ExecutionMagics",
        "timeit": "ExecutionMagics",
        "writefile": "OSMagics"
       },
       "line": {
        "alias": "OSMagics",
        "alias_magic": "BasicMagics",
        "autocall": "AutoMagics",
        "automagic": "AutoMagics",
        "autosave": "KernelMagics",
        "bookmark": "OSMagics",
        "cd": "OSMagics",
        "clear": "KernelMagics",
        "cls": "KernelMagics",
        "colors": "BasicMagics",
        "config": "ConfigMagics",
        "connect_info": "KernelMagics",
        "copy": "Other",
        "ddir": "Other",
        "debug": "ExecutionMagics",
        "dhist": "OSMagics",
        "dirs": "OSMagics",
        "doctest_mode": "BasicMagics",
        "echo": "Other",
        "ed": "Other",
        "edit": "KernelMagics",
        "env": "OSMagics",
        "gui": "BasicMagics",
        "hist": "Other",
        "history": "HistoryMagics",
        "install_default_config": "DeprecatedMagics",
        "install_ext": "ExtensionMagics",
        "install_profiles": "DeprecatedMagics",
        "killbgscripts": "ScriptMagics",
        "ldir": "Other",
        "less": "KernelMagics",
        "load": "CodeMagics",
        "load_ext": "ExtensionMagics",
        "loadpy": "CodeMagics",
        "logoff": "LoggingMagics",
        "logon": "LoggingMagics",
        "logstart": "LoggingMagics",
        "logstate": "LoggingMagics",
        "logstop": "LoggingMagics",
        "ls": "Other",
        "lsmagic": "BasicMagics",
        "macro": "ExecutionMagics",
        "magic": "BasicMagics",
        "matplotlib": "PylabMagics",
        "mkdir": "Other",
        "more": "KernelMagics",
        "notebook": "BasicMagics",
        "page": "BasicMagics",
        "pastebin": "CodeMagics",
        "pdb": "ExecutionMagics",
        "pdef": "NamespaceMagics",
        "pdoc": "NamespaceMagics",
        "pfile": "NamespaceMagics",
        "pinfo": "NamespaceMagics",
        "pinfo2": "NamespaceMagics",
        "popd": "OSMagics",
        "pprint": "BasicMagics",
        "precision": "BasicMagics",
        "profile": "BasicMagics",
        "prun": "ExecutionMagics",
        "psearch": "NamespaceMagics",
        "psource": "NamespaceMagics",
        "pushd": "OSMagics",
        "pwd": "OSMagics",
        "pycat": "OSMagics",
        "pylab": "PylabMagics",
        "qtconsole": "KernelMagics",
        "quickref": "BasicMagics",
        "recall": "HistoryMagics",
        "rehashx": "OSMagics",
        "reload_ext": "ExtensionMagics",
        "ren": "Other",
        "rep": "Other",
        "rerun": "HistoryMagics",
        "reset": "NamespaceMagics",
        "reset_selective": "NamespaceMagics",
        "rmdir": "Other",
        "run": "ExecutionMagics",
        "save": "CodeMagics",
        "sc": "OSMagics",
        "set_env": "OSMagics",
        "store": "StoreMagics",
        "sx": "OSMagics",
        "system": "OSMagics",
        "tb": "ExecutionMagics",
        "time": "ExecutionMagics",
        "timeit": "ExecutionMagics",
        "unalias": "OSMagics",
        "unload_ext": "ExtensionMagics",
        "who": "NamespaceMagics",
        "who_ls": "NamespaceMagics",
        "whos": "NamespaceMagics",
        "xdel": "NamespaceMagics",
        "xmode": "BasicMagics"
       }
      },
      "text/plain": [
       "Available line magics:\n",
       "%alias  %alias_magic  %autocall  %automagic  %autosave  %bookmark  %cd  %clear  %cls  %colors  %config  %connect_info  %copy  %ddir  %debug  %dhist  %dirs  %doctest_mode  %echo  %ed  %edit  %env  %gui  %hist  %history  %install_default_config  %install_ext  %install_profiles  %killbgscripts  %ldir  %less  %load  %load_ext  %loadpy  %logoff  %logon  %logstart  %logstate  %logstop  %ls  %lsmagic  %macro  %magic  %matplotlib  %mkdir  %more  %notebook  %page  %pastebin  %pdb  %pdef  %pdoc  %pfile  %pinfo  %pinfo2  %popd  %pprint  %precision  %profile  %prun  %psearch  %psource  %pushd  %pwd  %pycat  %pylab  %qtconsole  %quickref  %recall  %rehashx  %reload_ext  %ren  %rep  %rerun  %reset  %reset_selective  %rmdir  %run  %save  %sc  %set_env  %store  %sx  %system  %tb  %time  %timeit  %unalias  %unload_ext  %who  %who_ls  %whos  %xdel  %xmode\n",
       "\n",
       "Available cell magics:\n",
       "%%!  %%HTML  %%SVG  %%bash  %%capture  %%cmd  %%debug  %%file  %%html  %%javascript  %%latex  %%perl  %%prun  %%pypy  %%python  %%python2  %%python3  %%ruby  %%script  %%sh  %%svg  %%sx  %%system  %%time  %%timeit  %%writefile\n",
       "\n",
       "Automagic is ON, % prefix IS NOT needed for line magics."
      ]
     },
     "execution_count": 2,
     "metadata": {},
     "output_type": "execute_result"
    }
   ],
   "source": [
    "%lsmagic"
   ]
  },
  {
   "cell_type": "code",
   "execution_count": 4,
   "metadata": {
    "collapsed": true
   },
   "outputs": [],
   "source": [
    "%matplotlib inline\n",
    "import numpy as np\n",
    "import matplotlib.pyplot as plt"
   ]
  },
  {
   "cell_type": "markdown",
   "metadata": {},
   "source": [
    "#Some simple cell magics"
   ]
  },
  {
   "cell_type": "code",
   "execution_count": 9,
   "metadata": {
    "collapsed": false
   },
   "outputs": [
    {
     "name": "stdout",
     "output_type": "stream",
     "text": [
      "100 loops, best of 3: 6.69 ms per loop\n"
     ]
    }
   ],
   "source": [
    "%timeit np.linalg.eigvals(np.random.rand(100,100))"
   ]
  },
  {
   "cell_type": "code",
   "execution_count": 19,
   "metadata": {
    "collapsed": false
   },
   "outputs": [
    {
     "name": "stdout",
     "output_type": "stream",
     "text": [
      "100 loops, best of 3: 6.66 ms per loop\n"
     ]
    }
   ],
   "source": [
    "%%timeit a = np.random.rand(100,100)\n",
    "np.linalg.eigvals(a)"
   ]
  },
  {
   "cell_type": "code",
   "execution_count": 10,
   "metadata": {
    "collapsed": false,
    "scrolled": true
   },
   "outputs": [
    {
     "data": {
      "text/plain": [
       "array([  4.97055340e+01+0.j        ,   2.38757113e+00+1.59656458j,\n",
       "         2.38757113e+00-1.59656458j,   2.90781278e+00+0.j        ,\n",
       "         6.49856450e-01+2.71636977j,   6.49856450e-01-2.71636977j,\n",
       "         2.69846671e+00+0.24741921j,   2.69846671e+00-0.24741921j,\n",
       "         1.30081214e+00+2.37233027j,   1.30081214e+00-2.37233027j,\n",
       "         1.59410823e+00+2.13713316j,   1.59410823e+00-2.13713316j,\n",
       "         1.85449894e+00+1.75481874j,   1.85449894e+00-1.75481874j,\n",
       "        -2.46175193e+00+1.16158801j,  -2.46175193e+00-1.16158801j,\n",
       "         1.24650262e+00+2.19227383j,   1.24650262e+00-2.19227383j,\n",
       "        -2.01474745e-01+2.58405908j,  -2.01474745e-01-2.58405908j,\n",
       "        -1.05879223e+00+2.31128829j,  -1.05879223e+00-2.31128829j,\n",
       "        -2.53913731e+00+0.63764245j,  -2.53913731e+00-0.63764245j,\n",
       "        -2.06828934e+00+1.51808999j,  -2.06828934e+00-1.51808999j,\n",
       "         4.23427051e-02+2.48683336j,   4.23427051e-02-2.48683336j,\n",
       "        -2.43244463e+00+0.j        ,  -2.44812290e+00+0.41716739j,\n",
       "        -2.44812290e+00-0.41716739j,  -1.91294825e+00+1.5825741j ,\n",
       "        -1.91294825e+00-1.5825741j ,   2.32685215e+00+0.35666484j,\n",
       "         2.32685215e+00-0.35666484j,   1.99750865e+00+1.11957588j,\n",
       "         1.99750865e+00-1.11957588j,   1.91491301e+00+1.12903695j,\n",
       "         1.91491301e+00-1.12903695j,  -1.36069569e+00+1.84999062j,\n",
       "        -1.36069569e+00-1.84999062j,  -2.25819874e+00+0.j        ,\n",
       "         3.23320225e-01+2.1178883j ,   3.23320225e-01-2.1178883j ,\n",
       "        -5.57861534e-01+2.10285372j,  -5.57861534e-01-2.10285372j,\n",
       "        -1.71071262e+00+1.39919618j,  -1.71071262e+00-1.39919618j,\n",
       "         1.95985699e+00+0.33711327j,   1.95985699e+00-0.33711327j,\n",
       "         1.73976402e+00+0.94481593j,   1.73976402e+00-0.94481593j,\n",
       "         8.65449579e-01+1.69892191j,   8.65449579e-01-1.69892191j,\n",
       "         1.80229337e+00+0.j        ,  -1.79435075e+00+1.01115612j,\n",
       "        -1.79435075e+00-1.01115612j,  -6.18805369e-01+1.81551387j,\n",
       "        -6.18805369e-01-1.81551387j,  -9.01334791e-01+1.67942409j,\n",
       "        -9.01334791e-01-1.67942409j,   1.22623448e+00+1.03950268j,\n",
       "         1.22623448e+00-1.03950268j,  -1.70270629e+00+0.62012132j,\n",
       "        -1.70270629e+00-0.62012132j,   1.33833368e+00+0.j        ,\n",
       "        -3.07437641e-02+1.58255108j,  -3.07437641e-02-1.58255108j,\n",
       "         9.39345134e-01+1.05945574j,   9.39345134e-01-1.05945574j,\n",
       "         3.92719330e-01+1.36453098j,   3.92719330e-01-1.36453098j,\n",
       "        -1.40481172e+00+0.90009462j,  -1.40481172e+00-0.90009462j,\n",
       "         7.59106121e-01+0.98773514j,   7.59106121e-01-0.98773514j,\n",
       "        -2.12475161e-01+1.27391612j,  -2.12475161e-01-1.27391612j,\n",
       "        -8.57750494e-01+1.04968287j,  -8.57750494e-01-1.04968287j,\n",
       "         1.15482448e+00+0.1447703j ,   1.15482448e+00-0.1447703j ,\n",
       "        -1.19066985e+00+0.j        ,  -1.31513926e+00+0.35763876j,\n",
       "        -1.31513926e+00-0.35763876j,  -8.00727934e-01+1.00212062j,\n",
       "        -8.00727934e-01-1.00212062j,   8.54851247e-01+0.j        ,\n",
       "        -1.73818564e-02+0.69100407j,  -1.73818564e-02-0.69100407j,\n",
       "         4.92670008e-01+0.j        ,  -4.62019422e-01+0.59237321j,\n",
       "        -4.62019422e-01-0.59237321j,  -6.94112807e-01+0.54944507j,\n",
       "        -6.94112807e-01-0.54944507j,   1.54942063e-01+0.53148189j,\n",
       "         1.54942063e-01-0.53148189j,   2.11059894e-02+0.j        ,\n",
       "        -6.00275444e-01+0.15387596j,  -6.00275444e-01-0.15387596j])"
      ]
     },
     "execution_count": 10,
     "metadata": {},
     "output_type": "execute_result"
    }
   ],
   "source": [
    "np.linalg.eigvals(np.random.rand(100,100))"
   ]
  },
  {
   "cell_type": "code",
   "execution_count": 14,
   "metadata": {
    "collapsed": false
   },
   "outputs": [
    {
     "data": {
      "text/plain": [
       "array([[  5.26807285e-01,   4.57034409e-01,   3.21816994e-04],\n",
       "       [  9.36718071e-01,   8.51869388e-02,   9.69576836e-01],\n",
       "       [  9.20461525e-01,   5.40448445e-01,   5.67489365e-01]])"
      ]
     },
     "execution_count": 14,
     "metadata": {},
     "output_type": "execute_result"
    }
   ],
   "source": [
    "np.random.rand(3,3) #U[0,1]"
   ]
  },
  {
   "cell_type": "code",
   "execution_count": 17,
   "metadata": {
    "collapsed": true
   },
   "outputs": [],
   "source": [
    "np.linalg.eigvals?"
   ]
  },
  {
   "cell_type": "code",
   "execution_count": 20,
   "metadata": {
    "collapsed": true
   },
   "outputs": [],
   "source": [
    "%%capture capt\n",
    "from __future__ import print_function\n",
    "import sys\n",
    "print('Hello stdout')\n",
    "print('and stderr', file=sys.stderr)"
   ]
  },
  {
   "cell_type": "code",
   "execution_count": 21,
   "metadata": {
    "collapsed": false
   },
   "outputs": [
    {
     "data": {
      "text/plain": [
       "('Hello stdout\\n', 'and stderr\\n')"
      ]
     },
     "execution_count": 21,
     "metadata": {},
     "output_type": "execute_result"
    }
   ],
   "source": [
    "capt.stdout, capt.stderr"
   ]
  },
  {
   "cell_type": "code",
   "execution_count": 22,
   "metadata": {
    "collapsed": false
   },
   "outputs": [
    {
     "name": "stdout",
     "output_type": "stream",
     "text": [
      "Hello stdout\n"
     ]
    },
    {
     "name": "stderr",
     "output_type": "stream",
     "text": [
      "and stderr\n"
     ]
    }
   ],
   "source": [
    "capt.show()"
   ]
  },
  {
   "cell_type": "code",
   "execution_count": 23,
   "metadata": {
    "collapsed": false
   },
   "outputs": [
    {
     "name": "stdout",
     "output_type": "stream",
     "text": [
      "Writing foo.py\n"
     ]
    }
   ],
   "source": [
    "%%writefile foo.py\n",
    "print('Hello world')"
   ]
  },
  {
   "cell_type": "code",
   "execution_count": 24,
   "metadata": {
    "collapsed": false
   },
   "outputs": [
    {
     "name": "stdout",
     "output_type": "stream",
     "text": [
      "Hello world\n"
     ]
    }
   ],
   "source": [
    "%run foo"
   ]
  },
  {
   "cell_type": "markdown",
   "metadata": {},
   "source": [
    "##Magics for running code under other interpreters"
   ]
  },
  {
   "cell_type": "code",
   "execution_count": null,
   "metadata": {
    "collapsed": true
   },
   "outputs": [],
   "source": []
  }
 ],
 "metadata": {
  "kernelspec": {
   "display_name": "Python 2",
   "language": "python",
   "name": "python2"
  },
  "language_info": {
   "codemirror_mode": {
    "name": "ipython",
    "version": 2
   },
   "file_extension": ".py",
   "mimetype": "text/x-python",
   "name": "python",
   "nbconvert_exporter": "python",
   "pygments_lexer": "ipython2",
   "version": "2.7.9"
  }
 },
 "nbformat": 4,
 "nbformat_minor": 0
}
